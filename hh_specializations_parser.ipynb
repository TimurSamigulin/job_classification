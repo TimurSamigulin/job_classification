{
 "cells": [
  {
   "cell_type": "code",
   "execution_count": 69,
   "metadata": {
    "ExecuteTime": {
     "end_time": "2021-05-24T19:45:52.785993Z",
     "start_time": "2021-05-24T19:45:52.778756Z"
    }
   },
   "outputs": [],
   "source": [
    "import requests\n",
    "import pandas as pd\n",
    "import json"
   ]
  },
  {
   "cell_type": "code",
   "execution_count": 16,
   "metadata": {
    "ExecuteTime": {
     "end_time": "2021-05-24T18:33:35.866890Z",
     "start_time": "2021-05-24T18:33:35.768240Z"
    }
   },
   "outputs": [],
   "source": [
    "base_url = 'https://api.hh.ru/specializations'\n",
    "responce = requests.get(base_url)"
   ]
  },
  {
   "cell_type": "code",
   "execution_count": 26,
   "metadata": {
    "ExecuteTime": {
     "end_time": "2021-05-24T18:35:38.127816Z",
     "start_time": "2021-05-24T18:35:38.110692Z"
    }
   },
   "outputs": [],
   "source": [
    "specializations = json.loads(responce.text)"
   ]
  },
  {
   "cell_type": "code",
   "execution_count": 66,
   "metadata": {
    "ExecuteTime": {
     "end_time": "2021-05-24T19:41:21.026301Z",
     "start_time": "2021-05-24T19:41:21.008960Z"
    }
   },
   "outputs": [],
   "source": [
    "jobs = pd.DataFrame(columns=['id', 'job_name', 'specialization'])"
   ]
  },
  {
   "cell_type": "code",
   "execution_count": 67,
   "metadata": {
    "ExecuteTime": {
     "end_time": "2021-05-24T19:41:22.216220Z",
     "start_time": "2021-05-24T19:41:21.030286Z"
    }
   },
   "outputs": [],
   "source": [
    "for spec in specializations:\n",
    "    name = spec['name']\n",
    "    for job in spec['specializations']:\n",
    "        jobs = jobs.append({'id': job['id'], 'job_name': job['name'], 'specialization': name}, ignore_index=True)"
   ]
  },
  {
   "cell_type": "code",
   "execution_count": 71,
   "metadata": {
    "ExecuteTime": {
     "end_time": "2021-05-24T19:47:18.996607Z",
     "start_time": "2021-05-24T19:47:18.975912Z"
    }
   },
   "outputs": [],
   "source": [
    "path = './data/hh_jobs.csv'\n",
    "jobs.to_csv(path, index=False)"
   ]
  }
 ],
 "metadata": {
  "kernelspec": {
   "display_name": "Python 3",
   "language": "python",
   "name": "python3"
  },
  "language_info": {
   "codemirror_mode": {
    "name": "ipython",
    "version": 3
   },
   "file_extension": ".py",
   "mimetype": "text/x-python",
   "name": "python",
   "nbconvert_exporter": "python",
   "pygments_lexer": "ipython3",
   "version": "3.8.5"
  },
  "toc": {
   "base_numbering": 1,
   "nav_menu": {},
   "number_sections": true,
   "sideBar": true,
   "skip_h1_title": false,
   "title_cell": "Table of Contents",
   "title_sidebar": "Contents",
   "toc_cell": false,
   "toc_position": {},
   "toc_section_display": true,
   "toc_window_display": false
  },
  "varInspector": {
   "cols": {
    "lenName": 16,
    "lenType": 16,
    "lenVar": 40
   },
   "kernels_config": {
    "python": {
     "delete_cmd_postfix": "",
     "delete_cmd_prefix": "del ",
     "library": "var_list.py",
     "varRefreshCmd": "print(var_dic_list())"
    },
    "r": {
     "delete_cmd_postfix": ") ",
     "delete_cmd_prefix": "rm(",
     "library": "var_list.r",
     "varRefreshCmd": "cat(var_dic_list()) "
    }
   },
   "types_to_exclude": [
    "module",
    "function",
    "builtin_function_or_method",
    "instance",
    "_Feature"
   ],
   "window_display": false
  }
 },
 "nbformat": 4,
 "nbformat_minor": 4
}
