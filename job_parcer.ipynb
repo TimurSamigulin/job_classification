{
 "cells": [
  {
   "cell_type": "code",
   "execution_count": 12,
   "metadata": {
    "ExecuteTime": {
     "end_time": "2021-05-20T16:49:10.069870Z",
     "start_time": "2021-05-20T16:49:10.055873Z"
    }
   },
   "outputs": [],
   "source": [
    "import requests\n",
    "import io\n",
    "from bs4 import BeautifulSoup"
   ]
  },
  {
   "cell_type": "code",
   "execution_count": 10,
   "metadata": {
    "ExecuteTime": {
     "end_time": "2021-05-20T16:48:12.364619Z",
     "start_time": "2021-05-20T16:48:12.351456Z"
    }
   },
   "outputs": [],
   "source": [
    "def get_job_name():\n",
    "    base_url = 'https://www.examen.ru/add/manual/spisok-professiy/'\n",
    "    responce = requests.get(base_url)\n",
    "    \n",
    "    soup = BeautifulSoup(responce.text, 'lxml')\n",
    "    jobs = []\n",
    "    \n",
    "    for job in soup.find_all('li'):\n",
    "        jobs.append(job.text.replace(';', ' ').strip())\n",
    "    \n",
    "    return jobs"
   ]
  },
  {
   "cell_type": "code",
   "execution_count": 13,
   "metadata": {
    "ExecuteTime": {
     "end_time": "2021-05-20T16:51:41.957885Z",
     "start_time": "2021-05-20T16:51:40.043331Z"
    }
   },
   "outputs": [],
   "source": [
    "jobs = get_job_name()"
   ]
  },
  {
   "cell_type": "code",
   "execution_count": 23,
   "metadata": {
    "ExecuteTime": {
     "end_time": "2021-05-20T16:53:45.430233Z",
     "start_time": "2021-05-20T16:53:45.412139Z"
    }
   },
   "outputs": [],
   "source": [
    "path = './data/jobs.txt'\n",
    "f = io.open(path, mode='w', encoding='utf-8')\n",
    "f.write(';'.join(jobs))\n",
    "f.close()"
   ]
  }
 ],
 "metadata": {
  "kernelspec": {
   "display_name": "Python 3",
   "language": "python",
   "name": "python3"
  },
  "language_info": {
   "codemirror_mode": {
    "name": "ipython",
    "version": 3
   },
   "file_extension": ".py",
   "mimetype": "text/x-python",
   "name": "python",
   "nbconvert_exporter": "python",
   "pygments_lexer": "ipython3",
   "version": "3.8.5"
  },
  "toc": {
   "base_numbering": 1,
   "nav_menu": {},
   "number_sections": true,
   "sideBar": true,
   "skip_h1_title": false,
   "title_cell": "Table of Contents",
   "title_sidebar": "Contents",
   "toc_cell": false,
   "toc_position": {},
   "toc_section_display": true,
   "toc_window_display": false
  },
  "varInspector": {
   "cols": {
    "lenName": 16,
    "lenType": 16,
    "lenVar": 40
   },
   "kernels_config": {
    "python": {
     "delete_cmd_postfix": "",
     "delete_cmd_prefix": "del ",
     "library": "var_list.py",
     "varRefreshCmd": "print(var_dic_list())"
    },
    "r": {
     "delete_cmd_postfix": ") ",
     "delete_cmd_prefix": "rm(",
     "library": "var_list.r",
     "varRefreshCmd": "cat(var_dic_list()) "
    }
   },
   "types_to_exclude": [
    "module",
    "function",
    "builtin_function_or_method",
    "instance",
    "_Feature"
   ],
   "window_display": false
  }
 },
 "nbformat": 4,
 "nbformat_minor": 4
}
